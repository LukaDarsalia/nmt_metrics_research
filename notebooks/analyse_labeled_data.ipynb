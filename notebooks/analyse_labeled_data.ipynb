{
 "cells": [
  {
   "metadata": {},
   "cell_type": "markdown",
   "source": "# Imports",
   "id": "e2d827dce10ca10e"
  },
  {
   "metadata": {
    "ExecuteTime": {
     "end_time": "2025-05-18T03:59:55.333916Z",
     "start_time": "2025-05-18T03:59:54.808925Z"
    }
   },
   "cell_type": "code",
   "source": [
    "import sys\n",
    "import os\n",
    "sys.path.append(os.path.abspath('..'))\n",
    "\n",
    "from src.data.data_fetcher import EvalDataFetcher\n",
    "import matplotlib.pyplot as plt\n",
    "%matplotlib inline"
   ],
   "id": "2d409647522bb31c",
   "outputs": [],
   "execution_count": 1
  },
  {
   "metadata": {},
   "cell_type": "markdown",
   "source": "# Fetching new data",
   "id": "49f7d94d9c5e05eb"
  },
  {
   "cell_type": "code",
   "id": "initial_id",
   "metadata": {
    "collapsed": true,
    "ExecuteTime": {
     "end_time": "2025-05-18T03:59:57.983743Z",
     "start_time": "2025-05-18T03:59:55.437673Z"
    }
   },
   "source": [
    "# Create data fetcher\n",
    "fetcher = EvalDataFetcher()\n",
    "\n",
    "# Fetch evaluation data\n",
    "print(\"Fetching evaluation data...\")\n",
    "eval_data = fetcher.fetch_evaluation_data()\n",
    "print(f\"Retrieved {len(eval_data)} rows\")"
   ],
   "outputs": [
    {
     "name": "stdout",
     "output_type": "stream",
     "text": [
      "Fetching evaluation data...\n",
      "Retrieved 403 rows\n"
     ]
    }
   ],
   "execution_count": 2
  },
  {
   "metadata": {
    "ExecuteTime": {
     "end_time": "2025-05-18T03:59:58.001764Z",
     "start_time": "2025-05-18T03:59:57.995748Z"
    }
   },
   "cell_type": "code",
   "source": [
    "# Display sample data\n",
    "print(\"\\nSample data:\")\n",
    "eval_data.head()"
   ],
   "id": "98cdcb8fee50cfb9",
   "outputs": [
    {
     "name": "stdout",
     "output_type": "stream",
     "text": [
      "\n",
      "Sample data:\n"
     ]
    },
    {
     "data": {
      "text/plain": [
       "   score  item_id  createdBy_id  \\\n",
       "0     76        1             1   \n",
       "1     76        2             1   \n",
       "2     41        3             1   \n",
       "3     89        4             1   \n",
       "4     98        5             1   \n",
       "\n",
       "                                          sourceText  \\\n",
       "0  \"We now have 4-month-old mice that are non-dia...   \n",
       "1  \"We now have 4-month-old mice that are non-dia...   \n",
       "2  \"We now have 4-month-old mice that are non-dia...   \n",
       "3  Dr. Ehud Ur, professor of medicine at Dalhousi...   \n",
       "4  Dr. Ehud Ur, professor of medicine at Dalhousi...   \n",
       "\n",
       "                                          targetText      targetID  \n",
       "0  „ახლა გვყავს 4 თვის არადიაბეტური თაგვები, რომლ...  google_sheet  \n",
       "1  \"ახლა ჩვენ გვყავს 4 თვის თაგვები, რომლებიც არ ...          kona  \n",
       "2  \"ჩვენ ახლა გვაქვს 4 თვის ძაღლები, რომლებიც არ ...      small100  \n",
       "3  დოქტორმა ეჰუდ ურმა, დალჰაუზის უნივერსიტეტის მე...  google_sheet  \n",
       "4  დოქტორმა ეჰუდ ურმა, ჰალიფაქსში, ნოვა შოტლანდია...          kona  "
      ],
      "text/html": [
       "<div>\n",
       "<style scoped>\n",
       "    .dataframe tbody tr th:only-of-type {\n",
       "        vertical-align: middle;\n",
       "    }\n",
       "\n",
       "    .dataframe tbody tr th {\n",
       "        vertical-align: top;\n",
       "    }\n",
       "\n",
       "    .dataframe thead th {\n",
       "        text-align: right;\n",
       "    }\n",
       "</style>\n",
       "<table border=\"1\" class=\"dataframe\">\n",
       "  <thead>\n",
       "    <tr style=\"text-align: right;\">\n",
       "      <th></th>\n",
       "      <th>score</th>\n",
       "      <th>item_id</th>\n",
       "      <th>createdBy_id</th>\n",
       "      <th>sourceText</th>\n",
       "      <th>targetText</th>\n",
       "      <th>targetID</th>\n",
       "    </tr>\n",
       "  </thead>\n",
       "  <tbody>\n",
       "    <tr>\n",
       "      <th>0</th>\n",
       "      <td>76</td>\n",
       "      <td>1</td>\n",
       "      <td>1</td>\n",
       "      <td>\"We now have 4-month-old mice that are non-dia...</td>\n",
       "      <td>„ახლა გვყავს 4 თვის არადიაბეტური თაგვები, რომლ...</td>\n",
       "      <td>google_sheet</td>\n",
       "    </tr>\n",
       "    <tr>\n",
       "      <th>1</th>\n",
       "      <td>76</td>\n",
       "      <td>2</td>\n",
       "      <td>1</td>\n",
       "      <td>\"We now have 4-month-old mice that are non-dia...</td>\n",
       "      <td>\"ახლა ჩვენ გვყავს 4 თვის თაგვები, რომლებიც არ ...</td>\n",
       "      <td>kona</td>\n",
       "    </tr>\n",
       "    <tr>\n",
       "      <th>2</th>\n",
       "      <td>41</td>\n",
       "      <td>3</td>\n",
       "      <td>1</td>\n",
       "      <td>\"We now have 4-month-old mice that are non-dia...</td>\n",
       "      <td>\"ჩვენ ახლა გვაქვს 4 თვის ძაღლები, რომლებიც არ ...</td>\n",
       "      <td>small100</td>\n",
       "    </tr>\n",
       "    <tr>\n",
       "      <th>3</th>\n",
       "      <td>89</td>\n",
       "      <td>4</td>\n",
       "      <td>1</td>\n",
       "      <td>Dr. Ehud Ur, professor of medicine at Dalhousi...</td>\n",
       "      <td>დოქტორმა ეჰუდ ურმა, დალჰაუზის უნივერსიტეტის მე...</td>\n",
       "      <td>google_sheet</td>\n",
       "    </tr>\n",
       "    <tr>\n",
       "      <th>4</th>\n",
       "      <td>98</td>\n",
       "      <td>5</td>\n",
       "      <td>1</td>\n",
       "      <td>Dr. Ehud Ur, professor of medicine at Dalhousi...</td>\n",
       "      <td>დოქტორმა ეჰუდ ურმა, ჰალიფაქსში, ნოვა შოტლანდია...</td>\n",
       "      <td>kona</td>\n",
       "    </tr>\n",
       "  </tbody>\n",
       "</table>\n",
       "</div>"
      ]
     },
     "execution_count": 3,
     "metadata": {},
     "output_type": "execute_result"
    }
   ],
   "execution_count": 3
  },
  {
   "metadata": {
    "ExecuteTime": {
     "end_time": "2025-05-18T03:59:58.038441Z",
     "start_time": "2025-05-18T03:59:58.030005Z"
    }
   },
   "cell_type": "code",
   "source": [
    "# Basic statistics\n",
    "print(\"\\nBasic statistics:\")\n",
    "eval_data.describe()"
   ],
   "id": "fe791b85ebd1074d",
   "outputs": [
    {
     "name": "stdout",
     "output_type": "stream",
     "text": [
      "\n",
      "Basic statistics:\n"
     ]
    },
    {
     "data": {
      "text/plain": [
       "            score     item_id  createdBy_id\n",
       "count  403.000000  403.000000    403.000000\n",
       "mean    58.528536  226.069479     17.885856\n",
       "std     33.199323  150.461380     16.785651\n",
       "min      0.000000    1.000000      1.000000\n",
       "25%     25.000000  101.500000      1.000000\n",
       "50%     71.000000  202.000000     34.000000\n",
       "75%     86.000000  302.500000     35.000000\n",
       "max    100.000000  500.000000     36.000000"
      ],
      "text/html": [
       "<div>\n",
       "<style scoped>\n",
       "    .dataframe tbody tr th:only-of-type {\n",
       "        vertical-align: middle;\n",
       "    }\n",
       "\n",
       "    .dataframe tbody tr th {\n",
       "        vertical-align: top;\n",
       "    }\n",
       "\n",
       "    .dataframe thead th {\n",
       "        text-align: right;\n",
       "    }\n",
       "</style>\n",
       "<table border=\"1\" class=\"dataframe\">\n",
       "  <thead>\n",
       "    <tr style=\"text-align: right;\">\n",
       "      <th></th>\n",
       "      <th>score</th>\n",
       "      <th>item_id</th>\n",
       "      <th>createdBy_id</th>\n",
       "    </tr>\n",
       "  </thead>\n",
       "  <tbody>\n",
       "    <tr>\n",
       "      <th>count</th>\n",
       "      <td>403.000000</td>\n",
       "      <td>403.000000</td>\n",
       "      <td>403.000000</td>\n",
       "    </tr>\n",
       "    <tr>\n",
       "      <th>mean</th>\n",
       "      <td>58.528536</td>\n",
       "      <td>226.069479</td>\n",
       "      <td>17.885856</td>\n",
       "    </tr>\n",
       "    <tr>\n",
       "      <th>std</th>\n",
       "      <td>33.199323</td>\n",
       "      <td>150.461380</td>\n",
       "      <td>16.785651</td>\n",
       "    </tr>\n",
       "    <tr>\n",
       "      <th>min</th>\n",
       "      <td>0.000000</td>\n",
       "      <td>1.000000</td>\n",
       "      <td>1.000000</td>\n",
       "    </tr>\n",
       "    <tr>\n",
       "      <th>25%</th>\n",
       "      <td>25.000000</td>\n",
       "      <td>101.500000</td>\n",
       "      <td>1.000000</td>\n",
       "    </tr>\n",
       "    <tr>\n",
       "      <th>50%</th>\n",
       "      <td>71.000000</td>\n",
       "      <td>202.000000</td>\n",
       "      <td>34.000000</td>\n",
       "    </tr>\n",
       "    <tr>\n",
       "      <th>75%</th>\n",
       "      <td>86.000000</td>\n",
       "      <td>302.500000</td>\n",
       "      <td>35.000000</td>\n",
       "    </tr>\n",
       "    <tr>\n",
       "      <th>max</th>\n",
       "      <td>100.000000</td>\n",
       "      <td>500.000000</td>\n",
       "      <td>36.000000</td>\n",
       "    </tr>\n",
       "  </tbody>\n",
       "</table>\n",
       "</div>"
      ]
     },
     "execution_count": 4,
     "metadata": {},
     "output_type": "execute_result"
    }
   ],
   "execution_count": 4
  },
  {
   "metadata": {
    "ExecuteTime": {
     "end_time": "2025-05-18T03:59:58.131706Z",
     "start_time": "2025-05-18T03:59:58.114194Z"
    }
   },
   "cell_type": "code",
   "source": [
    "# Add reference text\n",
    "print(\"\\nAdding reference text...\")\n",
    "reference_file = '../data/flores_devtest_google_sheet.csv'\n",
    "complete_data = fetcher.add_reference_text(eval_data, reference_file)"
   ],
   "id": "8001d19bf0848306",
   "outputs": [
    {
     "name": "stdout",
     "output_type": "stream",
     "text": [
      "\n",
      "Adding reference text...\n"
     ]
    }
   ],
   "execution_count": 5
  },
  {
   "metadata": {
    "ExecuteTime": {
     "end_time": "2025-05-18T03:59:58.166805Z",
     "start_time": "2025-05-18T03:59:58.161580Z"
    }
   },
   "cell_type": "code",
   "source": [
    "# Display sample of complete data\n",
    "print(\"\\nComplete data with reference text:\")\n",
    "complete_data.head()"
   ],
   "id": "5bb461a0f04e1572",
   "outputs": [
    {
     "name": "stdout",
     "output_type": "stream",
     "text": [
      "\n",
      "Complete data with reference text:\n"
     ]
    },
    {
     "data": {
      "text/plain": [
       "   score  item_id  createdBy_id  \\\n",
       "0     76        1             1   \n",
       "1     76        2             1   \n",
       "2     41        3             1   \n",
       "3     89        4             1   \n",
       "4     98        5             1   \n",
       "\n",
       "                                          sourceText  \\\n",
       "0  \"We now have 4-month-old mice that are non-dia...   \n",
       "1  \"We now have 4-month-old mice that are non-dia...   \n",
       "2  \"We now have 4-month-old mice that are non-dia...   \n",
       "3  Dr. Ehud Ur, professor of medicine at Dalhousi...   \n",
       "4  Dr. Ehud Ur, professor of medicine at Dalhousi...   \n",
       "\n",
       "                                          targetText      targetID  \\\n",
       "0  „ახლა გვყავს 4 თვის არადიაბეტური თაგვები, რომლ...  google_sheet   \n",
       "1  \"ახლა ჩვენ გვყავს 4 თვის თაგვები, რომლებიც არ ...          kona   \n",
       "2  \"ჩვენ ახლა გვაქვს 4 თვის ძაღლები, რომლებიც არ ...      small100   \n",
       "3  დოქტორმა ეჰუდ ურმა, დალჰაუზის უნივერსიტეტის მე...  google_sheet   \n",
       "4  დოქტორმა ეჰუდ ურმა, ჰალიფაქსში, ნოვა შოტლანდია...          kona   \n",
       "\n",
       "                                       referenceText  \n",
       "0  „ჩვენ ახლა გვყავს 4 თვის ასაკის თაგვები, რომლე...  \n",
       "1  „ჩვენ ახლა გვყავს 4 თვის ასაკის თაგვები, რომლე...  \n",
       "2  „ჩვენ ახლა გვყავს 4 თვის ასაკის თაგვები, რომლე...  \n",
       "3  ჰალიფაქსის, ახალი შოტლანდიის დალჰუსის უნივერსი...  \n",
       "4  ჰალიფაქსის, ახალი შოტლანდიის დალჰუსის უნივერსი...  "
      ],
      "text/html": [
       "<div>\n",
       "<style scoped>\n",
       "    .dataframe tbody tr th:only-of-type {\n",
       "        vertical-align: middle;\n",
       "    }\n",
       "\n",
       "    .dataframe tbody tr th {\n",
       "        vertical-align: top;\n",
       "    }\n",
       "\n",
       "    .dataframe thead th {\n",
       "        text-align: right;\n",
       "    }\n",
       "</style>\n",
       "<table border=\"1\" class=\"dataframe\">\n",
       "  <thead>\n",
       "    <tr style=\"text-align: right;\">\n",
       "      <th></th>\n",
       "      <th>score</th>\n",
       "      <th>item_id</th>\n",
       "      <th>createdBy_id</th>\n",
       "      <th>sourceText</th>\n",
       "      <th>targetText</th>\n",
       "      <th>targetID</th>\n",
       "      <th>referenceText</th>\n",
       "    </tr>\n",
       "  </thead>\n",
       "  <tbody>\n",
       "    <tr>\n",
       "      <th>0</th>\n",
       "      <td>76</td>\n",
       "      <td>1</td>\n",
       "      <td>1</td>\n",
       "      <td>\"We now have 4-month-old mice that are non-dia...</td>\n",
       "      <td>„ახლა გვყავს 4 თვის არადიაბეტური თაგვები, რომლ...</td>\n",
       "      <td>google_sheet</td>\n",
       "      <td>„ჩვენ ახლა გვყავს 4 თვის ასაკის თაგვები, რომლე...</td>\n",
       "    </tr>\n",
       "    <tr>\n",
       "      <th>1</th>\n",
       "      <td>76</td>\n",
       "      <td>2</td>\n",
       "      <td>1</td>\n",
       "      <td>\"We now have 4-month-old mice that are non-dia...</td>\n",
       "      <td>\"ახლა ჩვენ გვყავს 4 თვის თაგვები, რომლებიც არ ...</td>\n",
       "      <td>kona</td>\n",
       "      <td>„ჩვენ ახლა გვყავს 4 თვის ასაკის თაგვები, რომლე...</td>\n",
       "    </tr>\n",
       "    <tr>\n",
       "      <th>2</th>\n",
       "      <td>41</td>\n",
       "      <td>3</td>\n",
       "      <td>1</td>\n",
       "      <td>\"We now have 4-month-old mice that are non-dia...</td>\n",
       "      <td>\"ჩვენ ახლა გვაქვს 4 თვის ძაღლები, რომლებიც არ ...</td>\n",
       "      <td>small100</td>\n",
       "      <td>„ჩვენ ახლა გვყავს 4 თვის ასაკის თაგვები, რომლე...</td>\n",
       "    </tr>\n",
       "    <tr>\n",
       "      <th>3</th>\n",
       "      <td>89</td>\n",
       "      <td>4</td>\n",
       "      <td>1</td>\n",
       "      <td>Dr. Ehud Ur, professor of medicine at Dalhousi...</td>\n",
       "      <td>დოქტორმა ეჰუდ ურმა, დალჰაუზის უნივერსიტეტის მე...</td>\n",
       "      <td>google_sheet</td>\n",
       "      <td>ჰალიფაქსის, ახალი შოტლანდიის დალჰუსის უნივერსი...</td>\n",
       "    </tr>\n",
       "    <tr>\n",
       "      <th>4</th>\n",
       "      <td>98</td>\n",
       "      <td>5</td>\n",
       "      <td>1</td>\n",
       "      <td>Dr. Ehud Ur, professor of medicine at Dalhousi...</td>\n",
       "      <td>დოქტორმა ეჰუდ ურმა, ჰალიფაქსში, ნოვა შოტლანდია...</td>\n",
       "      <td>kona</td>\n",
       "      <td>ჰალიფაქსის, ახალი შოტლანდიის დალჰუსის უნივერსი...</td>\n",
       "    </tr>\n",
       "  </tbody>\n",
       "</table>\n",
       "</div>"
      ]
     },
     "execution_count": 6,
     "metadata": {},
     "output_type": "execute_result"
    }
   ],
   "execution_count": 6
  },
  {
   "metadata": {},
   "cell_type": "markdown",
   "source": "# Visualizing data",
   "id": "ed2df8d9a4f39e56"
  },
  {
   "metadata": {
    "ExecuteTime": {
     "end_time": "2025-05-18T03:59:58.279241Z",
     "start_time": "2025-05-18T03:59:58.200702Z"
    }
   },
   "cell_type": "code",
   "source": [
    "plt.figure(figsize=(10, 6))\n",
    "complete_data['score'].hist(bins=20)\n",
    "plt.title('Distribution of Scores')\n",
    "plt.xlabel('Score')\n",
    "plt.ylabel('Frequency')\n",
    "plt.show()"
   ],
   "id": "235588b6face512b",
   "outputs": [
    {
     "data": {
      "text/plain": [
       "<Figure size 1000x600 with 1 Axes>"
      ],
      "image/png": "[encoded data removed]"
     },
     "metadata": {},
     "output_type": "display_data"
    }
   ],
   "execution_count": 7
  },
  {
   "metadata": {
    "ExecuteTime": {
     "end_time": "2025-05-18T03:59:58.304283Z",
     "start_time": "2025-05-18T03:59:58.302136Z"
    }
   },
   "cell_type": "code",
   "source": "",
   "id": "bf9cb80645b4d3f7",
   "outputs": [],
   "execution_count": null
  }
 ],
 "metadata": {
  "kernelspec": {
   "display_name": "Python 3",
   "language": "python",
   "name": "python3"
  },
  "language_info": {
   "codemirror_mode": {
    "name": "ipython",
    "version": 2
   },
   "file_extension": ".py",
   "mimetype": "text/x-python",
   "name": "python",
   "nbconvert_exporter": "python",
   "pygments_lexer": "ipython2",
   "version": "2.7.6"
  }
 },
 "nbformat": 4,
 "nbformat_minor": 5
}
